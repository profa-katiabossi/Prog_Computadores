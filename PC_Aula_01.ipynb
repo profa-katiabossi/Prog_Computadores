{
  "nbformat": 4,
  "nbformat_minor": 0,
  "metadata": {
    "colab": {
      "name": "PC_Aula 01",
      "provenance": [],
      "collapsed_sections": [],
      "authorship_tag": "ABX9TyPi+eQIWJWu7anF2fqlDdzP",
      "include_colab_link": true
    },
    "kernelspec": {
      "name": "python3",
      "display_name": "Python 3"
    }
  },
  "cells": [
    {
      "cell_type": "markdown",
      "metadata": {
        "id": "view-in-github",
        "colab_type": "text"
      },
      "source": [
        "<a href=\"https://colab.research.google.com/github/profa-katiabossi/Prog_Computadores/blob/main/PC_Aula_01.ipynb\" target=\"_parent\"><img src=\"https://colab.research.google.com/assets/colab-badge.svg\" alt=\"Open In Colab\"/></a>"
      ]
    },
    {
      "cell_type": "markdown",
      "metadata": {
        "id": "IPJLF3wMkR9e"
      },
      "source": [
        "O famoso Olá Mundo! em Python"
      ]
    },
    {
      "cell_type": "code",
      "metadata": {
        "colab": {
          "base_uri": "https://localhost:8080/"
        },
        "id": "vYD1E_3GkZpm",
        "outputId": "ef241093-4a14-4e0b-ed59-9d1f09f56f00"
      },
      "source": [
        "# Visulaizaremos na tela a mensagem Olá Mundo\r\n",
        "print(\"Olá mundo!\")"
      ],
      "execution_count": 2,
      "outputs": [
        {
          "output_type": "stream",
          "text": [
            "Olá mundo!\n"
          ],
          "name": "stdout"
        }
      ]
    },
    {
      "cell_type": "markdown",
      "metadata": {
        "id": "QtbuCNcOkoiN"
      },
      "source": [
        "Exemplo em Python: ler o nome do usuário e visualizar"
      ]
    },
    {
      "cell_type": "code",
      "metadata": {
        "colab": {
          "base_uri": "https://localhost:8080/"
        },
        "id": "QWKZMllkk6EP",
        "outputId": "aa4a88a2-fa85-48ff-f8f2-92061ff0e6de"
      },
      "source": [
        "# ler o nome do usuário e dar as boas vindas\r\n",
        "nome = input(\"Digite o seu nome \")\r\n",
        "print(\"Boa noite \" + nome + \"!\")"
      ],
      "execution_count": 4,
      "outputs": [
        {
          "output_type": "stream",
          "text": [
            "Digite o seu nome Kátia\n",
            "Boa noite Kátia!\n"
          ],
          "name": "stdout"
        }
      ]
    },
    {
      "cell_type": "markdown",
      "metadata": {
        "id": "LG7MJQ5elp--"
      },
      "source": [
        "Exemplo em Python: ler dois números e somar"
      ]
    },
    {
      "cell_type": "code",
      "metadata": {
        "colab": {
          "base_uri": "https://localhost:8080/"
        },
        "id": "ds8ATNeIlrSe",
        "outputId": "61d24836-bc79-4006-88e2-dfd6ffd14d44"
      },
      "source": [
        "x=float(input(\"Entre com o primeiro valor:\"))\r\n",
        "y=float(input(\"Entre com o segundo valor:\"))\r\n",
        "print(\"A soma dos dois valores digitados é\", (x+y))"
      ],
      "execution_count": 7,
      "outputs": [
        {
          "output_type": "stream",
          "text": [
            "Entre com o primeiro valor:5\n",
            "Entre com o segundo valor:6\n",
            "A soma dos dois valores digitados é 11.0\n"
          ],
          "name": "stdout"
        }
      ]
    },
    {
      "cell_type": "code",
      "metadata": {
        "id": "nozFOnOCliiB"
      },
      "source": [
        ""
      ],
      "execution_count": null,
      "outputs": []
    }
  ]
}